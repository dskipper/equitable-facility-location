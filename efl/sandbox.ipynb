{
 "cells": [
  {
   "cell_type": "code",
   "execution_count": 2,
   "id": "e1dbca75-e48e-4ff4-a736-92883acac991",
   "metadata": {},
   "outputs": [],
   "source": [
    "import pandas as pd\n",
    "import model\n",
    "import data"
   ]
  },
  {
   "cell_type": "code",
   "execution_count": 41,
   "id": "33442130-ae73-45fd-969e-6a8e420af857",
   "metadata": {},
   "outputs": [],
   "source": [
    "data_path='../data/test_data/'\n",
    "edge_cases=data_path+'edge_cases/'\n",
    "# df = pd.read_csv(data_path+'origins_basic.csv')\n",
    "# df = pd.read_csv(data_path+'destinations_basic.csv')\n",
    "df = pd.read_csv(data_path+'distances_cartesian.csv')\n",
    "# df = pd.read_csv(edge_cases+'origins_nan_populations.csv')\n",
    "# df = pd.read_csv(edge_cases+'origins_id_not_unique.csv')\n",
    "# df = pd.read_csv(edge_cases+'distances_not_numeric.csv')\n",
    "# df = pd.read_csv(edge_cases+'distances_dest_far_away.csv')"
   ]
  },
  {
   "cell_type": "code",
   "execution_count": 42,
   "id": "b9606938-4c3a-49b4-accc-97e285249dd7",
   "metadata": {},
   "outputs": [
    {
     "data": {
      "text/plain": [
       "(300, 3)"
      ]
     },
     "execution_count": 42,
     "metadata": {},
     "output_type": "execute_result"
    }
   ],
   "source": [
    "df.shape"
   ]
  },
  {
   "cell_type": "code",
   "execution_count": 43,
   "id": "ae9ac255",
   "metadata": {},
   "outputs": [
    {
     "data": {
      "text/html": [
       "<div>\n",
       "<style scoped>\n",
       "    .dataframe tbody tr th:only-of-type {\n",
       "        vertical-align: middle;\n",
       "    }\n",
       "\n",
       "    .dataframe tbody tr th {\n",
       "        vertical-align: top;\n",
       "    }\n",
       "\n",
       "    .dataframe thead th {\n",
       "        text-align: right;\n",
       "    }\n",
       "</style>\n",
       "<table border=\"1\" class=\"dataframe\">\n",
       "  <thead>\n",
       "    <tr style=\"text-align: right;\">\n",
       "      <th></th>\n",
       "      <th>origin</th>\n",
       "      <th>destination</th>\n",
       "      <th>distance</th>\n",
       "    </tr>\n",
       "  </thead>\n",
       "  <tbody>\n",
       "    <tr>\n",
       "      <th>0</th>\n",
       "      <td>orig1</td>\n",
       "      <td>dest1</td>\n",
       "      <td>408.9</td>\n",
       "    </tr>\n",
       "    <tr>\n",
       "      <th>1</th>\n",
       "      <td>orig1</td>\n",
       "      <td>dest2</td>\n",
       "      <td>813.7</td>\n",
       "    </tr>\n",
       "    <tr>\n",
       "      <th>2</th>\n",
       "      <td>orig1</td>\n",
       "      <td>dest3</td>\n",
       "      <td>207.2</td>\n",
       "    </tr>\n",
       "    <tr>\n",
       "      <th>3</th>\n",
       "      <td>orig1</td>\n",
       "      <td>dest4</td>\n",
       "      <td>725.2</td>\n",
       "    </tr>\n",
       "    <tr>\n",
       "      <th>4</th>\n",
       "      <td>orig1</td>\n",
       "      <td>dest5</td>\n",
       "      <td>838.1</td>\n",
       "    </tr>\n",
       "  </tbody>\n",
       "</table>\n",
       "</div>"
      ],
      "text/plain": [
       "  origin destination  distance\n",
       "0  orig1       dest1     408.9\n",
       "1  orig1       dest2     813.7\n",
       "2  orig1       dest3     207.2\n",
       "3  orig1       dest4     725.2\n",
       "4  orig1       dest5     838.1"
      ]
     },
     "execution_count": 43,
     "metadata": {},
     "output_type": "execute_result"
    }
   ],
   "source": [
    "df.head()"
   ]
  },
  {
   "cell_type": "code",
   "execution_count": 49,
   "id": "8072e920",
   "metadata": {},
   "outputs": [
    {
     "data": {
      "text/plain": [
       "(29, 2)"
      ]
     },
     "execution_count": 49,
     "metadata": {},
     "output_type": "execute_result"
    }
   ],
   "source": [
    "df = df.query('distance<=300').reset_index(drop=True)\n",
    "df.groupby(['origin']).agg(count = ('destination','count')).reset_index().shape"
   ]
  },
  {
   "cell_type": "code",
   "execution_count": 50,
   "id": "f2ea1251",
   "metadata": {},
   "outputs": [
    {
     "data": {
      "text/plain": [
       "(10, 2)"
      ]
     },
     "execution_count": 50,
     "metadata": {},
     "output_type": "execute_result"
    }
   ],
   "source": [
    "df.groupby(['destination']).agg(count = ('origin','count')).reset_index().shape"
   ]
  },
  {
   "cell_type": "code",
   "execution_count": 51,
   "id": "836b2bc4",
   "metadata": {},
   "outputs": [
    {
     "data": {
      "text/plain": [
       "(63, 3)"
      ]
     },
     "execution_count": 51,
     "metadata": {},
     "output_type": "execute_result"
    }
   ],
   "source": [
    "df.shape"
   ]
  },
  {
   "cell_type": "code",
   "execution_count": 53,
   "id": "fed12a9c",
   "metadata": {},
   "outputs": [],
   "source": [
    "test_df_path = '../data/test_data/dataframes/'\n",
    "df = pd.read_csv(test_df_path+'orig_df.csv')"
   ]
  },
  {
   "cell_type": "code",
   "execution_count": 54,
   "id": "8b4d8f1b",
   "metadata": {},
   "outputs": [
    {
     "data": {
      "text/html": [
       "<div>\n",
       "<style scoped>\n",
       "    .dataframe tbody tr th:only-of-type {\n",
       "        vertical-align: middle;\n",
       "    }\n",
       "\n",
       "    .dataframe tbody tr th {\n",
       "        vertical-align: top;\n",
       "    }\n",
       "\n",
       "    .dataframe thead th {\n",
       "        text-align: right;\n",
       "    }\n",
       "</style>\n",
       "<table border=\"1\" class=\"dataframe\">\n",
       "  <thead>\n",
       "    <tr style=\"text-align: right;\">\n",
       "      <th></th>\n",
       "      <th>id</th>\n",
       "      <th>population</th>\n",
       "    </tr>\n",
       "  </thead>\n",
       "  <tbody>\n",
       "    <tr>\n",
       "      <th>0</th>\n",
       "      <td>orig1</td>\n",
       "      <td>11</td>\n",
       "    </tr>\n",
       "    <tr>\n",
       "      <th>1</th>\n",
       "      <td>orig2</td>\n",
       "      <td>17</td>\n",
       "    </tr>\n",
       "    <tr>\n",
       "      <th>2</th>\n",
       "      <td>orig3</td>\n",
       "      <td>8</td>\n",
       "    </tr>\n",
       "    <tr>\n",
       "      <th>3</th>\n",
       "      <td>orig4</td>\n",
       "      <td>20</td>\n",
       "    </tr>\n",
       "    <tr>\n",
       "      <th>4</th>\n",
       "      <td>orig5</td>\n",
       "      <td>10</td>\n",
       "    </tr>\n",
       "  </tbody>\n",
       "</table>\n",
       "</div>"
      ],
      "text/plain": [
       "      id  population\n",
       "0  orig1          11\n",
       "1  orig2          17\n",
       "2  orig3           8\n",
       "3  orig4          20\n",
       "4  orig5          10"
      ]
     },
     "execution_count": 54,
     "metadata": {},
     "output_type": "execute_result"
    }
   ],
   "source": [
    "df.head()"
   ]
  },
  {
   "cell_type": "code",
   "execution_count": 56,
   "id": "93722b8e",
   "metadata": {},
   "outputs": [
    {
     "name": "stderr",
     "output_type": "stream",
     "text": [
      "WARNING:root:radius=1000 excludes 1 destinations\n"
     ]
    }
   ],
   "source": [
    "test_data_path = '../data/test_data/'\n",
    "edge_case_path = test_data_path+'edge_cases/'\n",
    "test_df_path = test_data_path+'dataframes/'\n",
    "\n",
    "# one destination is eliminated (warning)\n",
    "orig_df = pd.read_csv(test_df_path+'orig_df.csv')\n",
    "dest_df = data.read_destination_file(edge_case_path+'destinations_dest_far_away.csv')\n",
    "dist_lookup = data.read_distance_file(edge_case_path+'distances_dest_far_away.csv')\n",
    "dist_df = data.build_dist_df(orig_df, dest_df, dist_lookup)\n",
    "new_dist_df = model._apply_radius(orig_df, dest_df, dist_df, 1000)\n"
   ]
  },
  {
   "cell_type": "code",
   "execution_count": 57,
   "id": "d3552267",
   "metadata": {},
   "outputs": [
    {
     "data": {
      "text/html": [
       "<div>\n",
       "<style scoped>\n",
       "    .dataframe tbody tr th:only-of-type {\n",
       "        vertical-align: middle;\n",
       "    }\n",
       "\n",
       "    .dataframe tbody tr th {\n",
       "        vertical-align: top;\n",
       "    }\n",
       "\n",
       "    .dataframe thead th {\n",
       "        text-align: right;\n",
       "    }\n",
       "</style>\n",
       "<table border=\"1\" class=\"dataframe\">\n",
       "  <thead>\n",
       "    <tr style=\"text-align: right;\">\n",
       "      <th></th>\n",
       "      <th>origin</th>\n",
       "      <th>destination</th>\n",
       "      <th>population</th>\n",
       "      <th>distance</th>\n",
       "    </tr>\n",
       "  </thead>\n",
       "  <tbody>\n",
       "    <tr>\n",
       "      <th>0</th>\n",
       "      <td>orig1</td>\n",
       "      <td>dest1</td>\n",
       "      <td>11</td>\n",
       "      <td>408.9</td>\n",
       "    </tr>\n",
       "    <tr>\n",
       "      <th>1</th>\n",
       "      <td>orig1</td>\n",
       "      <td>dest2</td>\n",
       "      <td>11</td>\n",
       "      <td>813.7</td>\n",
       "    </tr>\n",
       "    <tr>\n",
       "      <th>2</th>\n",
       "      <td>orig1</td>\n",
       "      <td>dest3</td>\n",
       "      <td>11</td>\n",
       "      <td>207.2</td>\n",
       "    </tr>\n",
       "    <tr>\n",
       "      <th>3</th>\n",
       "      <td>orig1</td>\n",
       "      <td>dest4</td>\n",
       "      <td>11</td>\n",
       "      <td>725.2</td>\n",
       "    </tr>\n",
       "    <tr>\n",
       "      <th>4</th>\n",
       "      <td>orig1</td>\n",
       "      <td>dest5</td>\n",
       "      <td>11</td>\n",
       "      <td>838.1</td>\n",
       "    </tr>\n",
       "  </tbody>\n",
       "</table>\n",
       "</div>"
      ],
      "text/plain": [
       "  origin destination  population  distance\n",
       "0  orig1       dest1          11     408.9\n",
       "1  orig1       dest2          11     813.7\n",
       "2  orig1       dest3          11     207.2\n",
       "3  orig1       dest4          11     725.2\n",
       "4  orig1       dest5          11     838.1"
      ]
     },
     "execution_count": 57,
     "metadata": {},
     "output_type": "execute_result"
    }
   ],
   "source": [
    "new_dist_df.head()"
   ]
  },
  {
   "cell_type": "code",
   "execution_count": 58,
   "id": "72f6de96",
   "metadata": {},
   "outputs": [
    {
     "data": {
      "text/html": [
       "<div>\n",
       "<style scoped>\n",
       "    .dataframe tbody tr th:only-of-type {\n",
       "        vertical-align: middle;\n",
       "    }\n",
       "\n",
       "    .dataframe tbody tr th {\n",
       "        vertical-align: top;\n",
       "    }\n",
       "\n",
       "    .dataframe thead th {\n",
       "        text-align: right;\n",
       "    }\n",
       "</style>\n",
       "<table border=\"1\" class=\"dataframe\">\n",
       "  <thead>\n",
       "    <tr style=\"text-align: right;\">\n",
       "      <th></th>\n",
       "      <th>origin</th>\n",
       "      <th>destination</th>\n",
       "      <th>population</th>\n",
       "      <th>distance</th>\n",
       "    </tr>\n",
       "  </thead>\n",
       "  <tbody>\n",
       "    <tr>\n",
       "      <th>0</th>\n",
       "      <td>orig1</td>\n",
       "      <td>dest1</td>\n",
       "      <td>11</td>\n",
       "      <td>408.9</td>\n",
       "    </tr>\n",
       "    <tr>\n",
       "      <th>1</th>\n",
       "      <td>orig1</td>\n",
       "      <td>dest2</td>\n",
       "      <td>11</td>\n",
       "      <td>813.7</td>\n",
       "    </tr>\n",
       "    <tr>\n",
       "      <th>2</th>\n",
       "      <td>orig1</td>\n",
       "      <td>dest3</td>\n",
       "      <td>11</td>\n",
       "      <td>207.2</td>\n",
       "    </tr>\n",
       "    <tr>\n",
       "      <th>3</th>\n",
       "      <td>orig1</td>\n",
       "      <td>dest4</td>\n",
       "      <td>11</td>\n",
       "      <td>725.2</td>\n",
       "    </tr>\n",
       "    <tr>\n",
       "      <th>4</th>\n",
       "      <td>orig1</td>\n",
       "      <td>dest5</td>\n",
       "      <td>11</td>\n",
       "      <td>838.1</td>\n",
       "    </tr>\n",
       "  </tbody>\n",
       "</table>\n",
       "</div>"
      ],
      "text/plain": [
       "  origin destination  population  distance\n",
       "0  orig1       dest1          11     408.9\n",
       "1  orig1       dest2          11     813.7\n",
       "2  orig1       dest3          11     207.2\n",
       "3  orig1       dest4          11     725.2\n",
       "4  orig1       dest5          11     838.1"
      ]
     },
     "execution_count": 58,
     "metadata": {},
     "output_type": "execute_result"
    }
   ],
   "source": [
    "dist_df.head()"
   ]
  },
  {
   "cell_type": "code",
   "execution_count": 3,
   "id": "c4015f60",
   "metadata": {},
   "outputs": [],
   "source": [
    "df = pd.read_csv('../data/test_data/results/out_basic_cartesian.csv')"
   ]
  },
  {
   "cell_type": "code",
   "execution_count": 5,
   "id": "92f56c49",
   "metadata": {},
   "outputs": [
    {
     "data": {
      "text/plain": [
       "{'dest1', 'dest2', 'dest3', 'dest4', 'dest6'}"
      ]
     },
     "execution_count": 5,
     "metadata": {},
     "output_type": "execute_result"
    }
   ],
   "source": [
    "set(df['destination'])"
   ]
  },
  {
   "cell_type": "code",
   "execution_count": null,
   "id": "d8c2508b",
   "metadata": {},
   "outputs": [],
   "source": []
  }
 ],
 "metadata": {
  "kernelspec": {
   "display_name": "Python 3 (ipykernel)",
   "language": "python",
   "name": "python3"
  },
  "language_info": {
   "codemirror_mode": {
    "name": "ipython",
    "version": 3
   },
   "file_extension": ".py",
   "mimetype": "text/x-python",
   "name": "python",
   "nbconvert_exporter": "python",
   "pygments_lexer": "ipython3",
   "version": "3.11.8"
  }
 },
 "nbformat": 4,
 "nbformat_minor": 5
}
