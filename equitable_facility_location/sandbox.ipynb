{
 "cells": [
  {
   "cell_type": "code",
   "execution_count": 1,
   "id": "e1dbca75-e48e-4ff4-a736-92883acac991",
   "metadata": {},
   "outputs": [],
   "source": [
    "import pandas as pd"
   ]
  },
  {
   "cell_type": "code",
   "execution_count": 38,
   "id": "33442130-ae73-45fd-969e-6a8e420af857",
   "metadata": {},
   "outputs": [],
   "source": [
    "data_path='../data/test_data/'\n",
    "edge_cases=data_path+'edge_cases/'\n",
    "df = pd.read_csv(data_path+'origins_basic.csv')\n",
    "df = pd.read_csv(data_path+'destinations_basic.csv')\n",
    "df = pd.read_csv(data_path+'distances_cartesian.csv')\n",
    "df = pd.read_csv(edge_cases+'origins_nan_populations.csv')\n",
    "df = pd.read_csv(edge_cases+'origins_id_not_unique.csv')\n",
    "df = pd.read_csv(edge_cases+'distances_not_numeric.csv')"
   ]
  },
  {
   "cell_type": "code",
   "execution_count": 39,
   "id": "b9606938-4c3a-49b4-accc-97e285249dd7",
   "metadata": {},
   "outputs": [
    {
     "data": {
      "text/html": [
       "<div>\n",
       "<style scoped>\n",
       "    .dataframe tbody tr th:only-of-type {\n",
       "        vertical-align: middle;\n",
       "    }\n",
       "\n",
       "    .dataframe tbody tr th {\n",
       "        vertical-align: top;\n",
       "    }\n",
       "\n",
       "    .dataframe thead th {\n",
       "        text-align: right;\n",
       "    }\n",
       "</style>\n",
       "<table border=\"1\" class=\"dataframe\">\n",
       "  <thead>\n",
       "    <tr style=\"text-align: right;\">\n",
       "      <th></th>\n",
       "      <th>origin</th>\n",
       "      <th>destination</th>\n",
       "      <th>distance</th>\n",
       "    </tr>\n",
       "  </thead>\n",
       "  <tbody>\n",
       "    <tr>\n",
       "      <th>0</th>\n",
       "      <td>orig1</td>\n",
       "      <td>dest1</td>\n",
       "      <td>408.9</td>\n",
       "    </tr>\n",
       "    <tr>\n",
       "      <th>1</th>\n",
       "      <td>orig1</td>\n",
       "      <td>dest2</td>\n",
       "      <td>813.7</td>\n",
       "    </tr>\n",
       "    <tr>\n",
       "      <th>2</th>\n",
       "      <td>orig1</td>\n",
       "      <td>dest3</td>\n",
       "      <td>207.2</td>\n",
       "    </tr>\n",
       "    <tr>\n",
       "      <th>3</th>\n",
       "      <td>orig1</td>\n",
       "      <td>dest4</td>\n",
       "      <td>725.2</td>\n",
       "    </tr>\n",
       "    <tr>\n",
       "      <th>4</th>\n",
       "      <td>orig1</td>\n",
       "      <td>dest5</td>\n",
       "      <td>838.1</td>\n",
       "    </tr>\n",
       "  </tbody>\n",
       "</table>\n",
       "</div>"
      ],
      "text/plain": [
       "  origin destination  distance\n",
       "0  orig1       dest1     408.9\n",
       "1  orig1       dest2     813.7\n",
       "2  orig1       dest3     207.2\n",
       "3  orig1       dest4     725.2\n",
       "4  orig1       dest5     838.1"
      ]
     },
     "execution_count": 39,
     "metadata": {},
     "output_type": "execute_result"
    }
   ],
   "source": [
    "df.head()"
   ]
  },
  {
   "cell_type": "code",
   "execution_count": 40,
   "id": "f44769fb-4c44-4370-846e-57b661f2c07f",
   "metadata": {},
   "outputs": [
    {
     "data": {
      "text/plain": [
       "0      408.9\n",
       "1      813.7\n",
       "2      207.2\n",
       "3      725.2\n",
       "4      838.1\n",
       "       ...  \n",
       "295     94.1\n",
       "296    463.5\n",
       "297    425.8\n",
       "298    530.4\n",
       "299    341.1\n",
       "Name: distance, Length: 300, dtype: float64"
      ]
     },
     "execution_count": 40,
     "metadata": {},
     "output_type": "execute_result"
    }
   ],
   "source": [
    "pd.to_numeric(df['distance'])"
   ]
  },
  {
   "cell_type": "code",
   "execution_count": 19,
   "id": "d749b189-547b-4ebb-85e4-4b2f8077cb0a",
   "metadata": {},
   "outputs": [
    {
     "name": "stdout",
     "output_type": "stream",
     "text": [
      "0      orig1\n",
      "1      orig2\n",
      "2      orig3\n",
      "3      orig4\n",
      "4      orig5\n",
      "5      orig6\n",
      "6      orig7\n",
      "7      orig8\n",
      "8      orig9\n",
      "9     orig10\n",
      "10    orig11\n",
      "11    orig12\n",
      "12    orig13\n",
      "13    orig14\n",
      "14    orig15\n",
      "15    orig16\n",
      "16    orig17\n",
      "17    orig18\n",
      "18    orig19\n",
      "19    orig20\n",
      "20    orig21\n",
      "21    orig22\n",
      "22    orig23\n",
      "23    orig24\n",
      "24    orig25\n",
      "25    orig26\n",
      "26    orig27\n",
      "27    orig28\n",
      "28    orig29\n",
      "29    orig30\n",
      "Name: id, dtype: object\n",
      "0     11.0\n",
      "1      NaN\n",
      "2      NaN\n",
      "3     20.0\n",
      "4     10.0\n",
      "5     11.0\n",
      "6     15.0\n",
      "7      6.0\n",
      "8     18.0\n",
      "9     17.0\n",
      "10    17.0\n",
      "11    15.0\n",
      "12    19.0\n",
      "13    18.0\n",
      "14    12.0\n",
      "15    12.0\n",
      "16     8.0\n",
      "17     6.0\n",
      "18     6.0\n",
      "19    12.0\n",
      "20    18.0\n",
      "21     5.0\n",
      "22    15.0\n",
      "23     8.0\n",
      "24    19.0\n",
      "25    14.0\n",
      "26     5.0\n",
      "27     8.0\n",
      "28     7.0\n",
      "29    18.0\n",
      "Name: population, dtype: float64\n"
     ]
    }
   ],
   "source": [
    "for series_name, series in df.items():\n",
    "    print(df[series_name])"
   ]
  },
  {
   "cell_type": "code",
   "execution_count": null,
   "id": "65354187-09be-4a4d-93a7-5597d7ae638a",
   "metadata": {},
   "outputs": [],
   "source": []
  }
 ],
 "metadata": {
  "kernelspec": {
   "display_name": "Python 3 (ipykernel)",
   "language": "python",
   "name": "python3"
  },
  "language_info": {
   "codemirror_mode": {
    "name": "ipython",
    "version": 3
   },
   "file_extension": ".py",
   "mimetype": "text/x-python",
   "name": "python",
   "nbconvert_exporter": "python",
   "pygments_lexer": "ipython3",
   "version": "3.12.2"
  }
 },
 "nbformat": 4,
 "nbformat_minor": 5
}
